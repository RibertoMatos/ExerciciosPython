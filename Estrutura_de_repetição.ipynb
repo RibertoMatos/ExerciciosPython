{
  "nbformat": 4,
  "nbformat_minor": 0,
  "metadata": {
    "colab": {
      "provenance": [],
      "authorship_tag": "ABX9TyM/Oi1/6yijh1KeDJBlWXAG",
      "include_colab_link": true
    },
    "kernelspec": {
      "name": "python3",
      "display_name": "Python 3"
    },
    "language_info": {
      "name": "python"
    }
  },
  "cells": [
    {
      "cell_type": "markdown",
      "metadata": {
        "id": "view-in-github",
        "colab_type": "text"
      },
      "source": [
        "<a href=\"https://colab.research.google.com/github/RibertoMatos/ExerciciosPython/blob/main/Estrutura_de_repeti%C3%A7%C3%A3o.ipynb\" target=\"_parent\"><img src=\"https://colab.research.google.com/assets/colab-badge.svg\" alt=\"Open In Colab\"/></a>"
      ]
    },
    {
      "cell_type": "markdown",
      "source": [
        "#Estrutura de repetição"
      ],
      "metadata": {
        "id": "VTWlR2RXOh5F"
      }
    },
    {
      "cell_type": "markdown",
      "source": [
        "Exemplo 1 sem o while"
      ],
      "metadata": {
        "id": "VTP4edc0UUmA"
      }
    },
    {
      "cell_type": "code",
      "execution_count": null,
      "metadata": {
        "id": "IUjVw74LOgkN"
      },
      "outputs": [],
      "source": [
        "#Recebendo o numero do usuario:\n",
        "numero = input(\"Digite um numero para o calculo de sua tabuada: \\n\")\n",
        "#Convertendo o numero para inteiro:\n",
        "numero = int(numero)\n",
        "# Exibindo a tabuada do numero:\n",
        "print(f\"{numero} x 1 = {numero*1}\")\n",
        "print(f\"{numero} x 2 = {numero*2}\")\n",
        "print(f\"{numero} x 3 = {numero*3}\")\n",
        "print(f\"{numero} x 4 = {numero*4}\")\n",
        "print(f\"{numero} x 5 = {numero*5}\")\n",
        "print(f\"{numero} x 6 = {numero*6}\")\n",
        "print(f\"{numero} x 7 = {numero*7}\")\n",
        "print(f\"{numero} x 8 = {numero*8}\")\n",
        "print(f\"{numero} x 9 = {numero*9}\")\n",
        "print(f\"{numero} x 10 = {numero*10}\")\n"
      ]
    },
    {
      "cell_type": "markdown",
      "source": [
        "Exemplo 1 com while"
      ],
      "metadata": {
        "id": "RkuopcDIUYpE"
      }
    },
    {
      "cell_type": "code",
      "source": [
        "#Recebendo o numero do usuario:\n",
        "numero = input(\"Digite um numero para o calculo de sua tabuada: \\n\")\n",
        "#Convertendo o numero para inteiro:\n",
        "numero = int(numero)\n",
        "#Criando a variavel controle do laço de repetição\n",
        "contador = 1\n",
        "while(contador<=10):\n",
        "  #Exibindo o valor da tabuada\n",
        "  print(f\"{numero} x {contador} = {numero*contador}\")\n",
        "  contador = contador + 1\n",
        "print(\"Fim de programa!\")"
      ],
      "metadata": {
        "id": "VFksUcJfSL_d"
      },
      "execution_count": null,
      "outputs": []
    },
    {
      "cell_type": "markdown",
      "source": [
        "Exemplo 2 sem while"
      ],
      "metadata": {
        "id": "SA6-xhgcUhz5"
      }
    },
    {
      "cell_type": "code",
      "source": [
        "#Recebendo as idades dos usuarios:\n",
        "id1 = input(\"Dgite a primeira idade:\\n\")\n",
        "id2 = input(\"Dgite a segunda idade:\\n\")\n",
        "id3 = input(\"Dgite a terceira idade:\\n\")\n",
        "id4 = input(\"Dgite a quarta idade:\\n\")\n",
        "id5 = input(\"Dgite a quinta idade:\\n\")\n",
        "#Convertendo o numero para inteiro:\n",
        "id1 = int(id1)\n",
        "id2 = int(id2)\n",
        "id3 = int(id3)\n",
        "id4 = int(id4)\n",
        "id5 = int(id5)\n",
        "#Calculando a media:\n",
        "media = (id1 + id2 + id3 + id4 + id5)/5\n",
        "#Exibindo a media das idades:\n",
        "print(f\"A media das idades é igual à {media}\")\n"
      ],
      "metadata": {
        "id": "mXhgsQcaUmW-"
      },
      "execution_count": null,
      "outputs": []
    },
    {
      "cell_type": "markdown",
      "source": [
        "Exemplo 2 com while"
      ],
      "metadata": {
        "id": "rlB3klwXWIgR"
      }
    },
    {
      "cell_type": "code",
      "source": [
        "#Criando a variavel de ccontrole do laço, contando 5 repetiçoes\n",
        "contador = 1\n",
        "#Criando uma variavel para acumular os calores das idades digitadas:\n",
        "soma = 0\n",
        "#Criando o laço de repetição para receber 5 idades e soma-las:\n",
        "while(contador<=5):\n",
        "  #Recebendo a idade do usuario:\n",
        "  idade = int(input(f\"Digite a idade do usuario n° {contador}: \"))\n",
        "  #Somando a idade do usuario ao valor atual da variavel acumulador\n",
        "  soma = soma + idade\n",
        "  #Incrementado a variavel contador para controle do laço\n",
        "  contador = contador + 1\n",
        "#Calculando a media das idades:\n",
        "media = soma/5\n",
        "print(f\"A media das idades digitadas é iagual: {media}\")\n"
      ],
      "metadata": {
        "id": "DLiLO9iyWH1O"
      },
      "execution_count": null,
      "outputs": []
    },
    {
      "cell_type": "markdown",
      "source": [
        "#Comando FOR"
      ],
      "metadata": {
        "id": "MCB5zez4cQCo"
      }
    },
    {
      "cell_type": "markdown",
      "source": [
        "Exemplo 1"
      ],
      "metadata": {
        "id": "gAXRMZvsc23j"
      }
    },
    {
      "cell_type": "code",
      "source": [
        "#Range (inicio, final,incremento)\n",
        "for cont in range(0,10,1):\n",
        "  print(cont)"
      ],
      "metadata": {
        "id": "qOpF6lIucTt0"
      },
      "execution_count": null,
      "outputs": []
    },
    {
      "cell_type": "markdown",
      "source": [
        "Exemplo 2"
      ],
      "metadata": {
        "id": "GsQ-09Mjc6Ti"
      }
    },
    {
      "cell_type": "code",
      "source": [
        "for i in range(10,0,-1):\n",
        "  print(i)"
      ],
      "metadata": {
        "id": "HRX5jv2Wc9dz"
      },
      "execution_count": null,
      "outputs": []
    },
    {
      "cell_type": "markdown",
      "source": [
        "Exemplo 3"
      ],
      "metadata": {
        "id": "7KA2Qna-c-Kc"
      }
    },
    {
      "cell_type": "code",
      "source": [
        "#Entrada de dados:\n",
        "num = int(input(\"Digite um numero para o calculo de sua tabuada: \"))\n",
        "print(f\"\\nCalculando a tabuada do {num}:\\n\")\n",
        "for i in range(1,11,1):\n",
        "  print(f\"{num} x {i} = {num*i}\")"
      ],
      "metadata": {
        "colab": {
          "base_uri": "https://localhost:8080/"
        },
        "id": "rvRXnw3AdABt",
        "outputId": "2ddaa4bf-6a6c-4be9-8e5d-09298d42097d"
      },
      "execution_count": 2,
      "outputs": [
        {
          "output_type": "stream",
          "name": "stdout",
          "text": [
            "Digite um numero para o calculo de sua tabuada: 5\n",
            "\n",
            "Calculando a tabuada do 5:\n",
            "\n",
            "5 x 1 = 5\n",
            "5 x 2 = 10\n",
            "5 x 3 = 15\n",
            "5 x 4 = 20\n",
            "5 x 5 = 25\n",
            "5 x 6 = 30\n",
            "5 x 7 = 35\n",
            "5 x 8 = 40\n",
            "5 x 9 = 45\n",
            "5 x 10 = 50\n"
          ]
        }
      ]
    }
  ]
}